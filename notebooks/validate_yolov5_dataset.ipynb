{
 "cells": [
  {
   "cell_type": "markdown",
   "metadata": {},
   "source": [
    "#### Dataset Validation. \n",
    "This notebook is to validate the dataset that has been created by auto-labeled images\n",
    "\n",
    "- input: raw images with yolov5 format annotation\n",
    "- validation: visually validating that annotation is accurate.\n",
    "\n",
    "To test images, please update the `image_folder_path`, `annotation_folder_path` variables. "
   ]
  },
  {
   "cell_type": "code",
   "execution_count": 10,
   "metadata": {},
   "outputs": [],
   "source": [
    "# update folder path if not data/processed folder\n",
    "image_folder_path = \"/data/processed/train/images\" # on Windows c:data/processed/validate/images\n",
    "annotation_folder_path = \"/data/processed/train/labels\" # on Windows c:data/processed/validate/labels"
   ]
  },
  {
   "cell_type": "code",
   "execution_count": 11,
   "metadata": {},
   "outputs": [],
   "source": [
    "#import cv2 as cv\n",
    "#strange error ImportError: ERROR: recursion is detected during loading of \"cv2\" binary extensions. Check OpenCV installation."
   ]
  },
  {
   "cell_type": "code",
   "execution_count": 12,
   "metadata": {},
   "outputs": [],
   "source": [
    "#import cv2 as cv\n",
    "import matplotlib.image as mpimg \n",
    "import os\n",
    "\n",
    "def load_images_from_folder(folder):\n",
    "    images = []\n",
    "    for filename in sorted(os.listdir(folder)):\n",
    "        img = mpimg.imread(os.path.join(folder,filename))\n",
    "        if img is not None:\n",
    "            images.append(img)\n",
    "        \n",
    "    return images\n",
    "\n",
    "def load_annotations_from_folder(folder):\n",
    "    txt_files = filter(lambda x: x[-4:] == '.txt', sorted(os.listdir(folder)))\n",
    "    annotations = []\n",
    "    for filename in txt_files:\n",
    "        with open(os.path.join(folder,filename), 'r') as reader:\n",
    "            annotations.append(reader.read().split())\n",
    "            \n",
    "    return annotations"
   ]
  },
  {
   "cell_type": "code",
   "execution_count": 13,
   "metadata": {},
   "outputs": [
    {
     "data": {
      "text/plain": [
       "['rrr_000.jpg',\n",
       " 'rrr_001.jpg',\n",
       " 'rrr_002.jpg',\n",
       " 'rrr_003.jpg',\n",
       " 'rrr_004.jpg',\n",
       " 'rrr_005.jpg',\n",
       " 'rrr_006.jpg',\n",
       " 'rrr_007.jpg',\n",
       " 'rrr_008.jpg',\n",
       " 'rrr_009.jpg',\n",
       " 'rrr_010.jpg',\n",
       " 'rrr_011.jpg',\n",
       " 'rrr_012.jpg',\n",
       " 'rrr_aug_0002.jpg',\n",
       " 'rrr_aug_0003.jpg',\n",
       " 'rrr_aug_0004.jpg',\n",
       " 'rrr_aug_0006.jpg',\n",
       " 'rrr_aug_0007.jpg',\n",
       " 'rrr_aug_0008.jpg',\n",
       " 'rrr_aug_0010.jpg',\n",
       " 'rrr_aug_0012.jpg',\n",
       " 'rrr_aug_0014.jpg',\n",
       " 'rrr_aug_0015.jpg',\n",
       " 'rrr_aug_0017.jpg',\n",
       " 'rrr_aug_0018.jpg',\n",
       " 'rrr_aug_0019.jpg',\n",
       " 'rrr_aug_0020.jpg',\n",
       " 'rrr_aug_0021.jpg',\n",
       " 'rrr_aug_0023.jpg',\n",
       " 'rrr_aug_0024.jpg',\n",
       " 'rrr_aug_0025.jpg',\n",
       " 'rrr_aug_0026.jpg',\n",
       " 'rrr_aug_0027.jpg',\n",
       " 'rrr_aug_0028.jpg',\n",
       " 'rrr_aug_0029.jpg',\n",
       " 'rrr_aug_0030.jpg',\n",
       " 'rrr_aug_0031.jpg',\n",
       " 'rrr_aug_0034.jpg',\n",
       " 'rrr_aug_0035.jpg',\n",
       " 'rrr_aug_0036.jpg',\n",
       " 'rrr_aug_0037.jpg',\n",
       " 'rrr_aug_0038.jpg',\n",
       " 'rrr_aug_0039.jpg',\n",
       " 'rrr_aug_0040.jpg',\n",
       " 'rrr_aug_0041.jpg',\n",
       " 'rrr_aug_0042.jpg',\n",
       " 'rrr_aug_0043.jpg',\n",
       " 'rrr_aug_0044.jpg',\n",
       " 'rrr_aug_0045.jpg',\n",
       " 'rrr_aug_0046.jpg',\n",
       " 'rrr_aug_0047.jpg',\n",
       " 'rrr_aug_0048.jpg',\n",
       " 'rrr_aug_0049.jpg',\n",
       " 'rrr_aug_0050.jpg',\n",
       " 'rrr_aug_0051.jpg',\n",
       " 'rrr_aug_0052.jpg',\n",
       " 'rrr_aug_0054.jpg',\n",
       " 'rrr_aug_0056.jpg',\n",
       " 'rrr_aug_0057.jpg',\n",
       " 'rrr_aug_0058.jpg',\n",
       " 'rrr_aug_0059.jpg',\n",
       " 'rrr_aug_0060.jpg',\n",
       " 'rrr_aug_0061.jpg',\n",
       " 'rrr_aug_0063.jpg',\n",
       " 'rrr_aug_0064.jpg',\n",
       " 'rrr_aug_0066.jpg',\n",
       " 'rrr_aug_0067.jpg',\n",
       " 'rrr_aug_0072.jpg',\n",
       " 'rrr_aug_0073.jpg',\n",
       " 'rrr_aug_0074.jpg',\n",
       " 'rrr_aug_0075.jpg',\n",
       " 'rrr_aug_0076.jpg',\n",
       " 'rrr_aug_0078.jpg',\n",
       " 'rrr_aug_0080.jpg',\n",
       " 'rrr_aug_0081.jpg',\n",
       " 'rrr_aug_0082.jpg',\n",
       " 'rrr_aug_0083.jpg',\n",
       " 'rrr_aug_0084.jpg',\n",
       " 'rrr_aug_0085.jpg',\n",
       " 'rrr_aug_0086.jpg',\n",
       " 'rrr_aug_0087.jpg',\n",
       " 'rrr_aug_0088.jpg',\n",
       " 'rrr_aug_0089.jpg',\n",
       " 'rrr_aug_0090.jpg',\n",
       " 'rrr_aug_0091.jpg',\n",
       " 'rrr_aug_0092.jpg',\n",
       " 'rrr_aug_0093.jpg',\n",
       " 'rrr_aug_0094.jpg',\n",
       " 'rrr_aug_0095.jpg',\n",
       " 'rrr_aug_0096.jpg',\n",
       " 'rrr_aug_0097.jpg',\n",
       " 'rrr_aug_0098.jpg',\n",
       " 'rrr_aug_0100.jpg',\n",
       " 'rrr_aug_0101.jpg',\n",
       " 'rrr_aug_0102.jpg',\n",
       " 'rrr_aug_0103.jpg']"
      ]
     },
     "execution_count": 13,
     "metadata": {},
     "output_type": "execute_result"
    }
   ],
   "source": [
    "sorted(os.listdir(image_folder_path)) # c: current directory\n",
    "## should see the list of images. If not please change. "
   ]
  },
  {
   "cell_type": "code",
   "execution_count": 14,
   "metadata": {},
   "outputs": [
    {
     "data": {
      "text/plain": [
       "['0', '0.246875', '0.5302083333333333', '0.146875', '0.15208333333333332']"
      ]
     },
     "execution_count": 14,
     "metadata": {},
     "output_type": "execute_result"
    }
   ],
   "source": [
    "images = load_images_from_folder(image_folder_path)\n",
    "\n",
    "annotations = load_annotations_from_folder(annotation_folder_path)\n",
    "# class_id, x_center, y_center, width, and the height \n",
    "# scaled from 0 to 1\n",
    "\n",
    "annotations[0]"
   ]
  },
  {
   "cell_type": "code",
   "execution_count": 15,
   "metadata": {},
   "outputs": [
    {
     "data": {
      "text/plain": [
       "(480, 640, 3)"
      ]
     },
     "execution_count": 15,
     "metadata": {},
     "output_type": "execute_result"
    }
   ],
   "source": [
    "images[0].shape \n",
    "# notice that shape is height by width (not same order as annotations) "
   ]
  },
  {
   "cell_type": "markdown",
   "metadata": {},
   "source": [
    "#### Load images and annotation from the folder and display them for visualization"
   ]
  },
  {
   "cell_type": "code",
   "execution_count": null,
   "metadata": {},
   "outputs": [
    {
     "ename": "IndexError",
     "evalue": "list index out of range",
     "output_type": "error",
     "traceback": [
      "\u001b[0;31m---------------------------------------------------------------------------\u001b[0m",
      "\u001b[0;31mIndexError\u001b[0m                                Traceback (most recent call last)",
      "\u001b[0;32m<ipython-input-16-b09d58158e90>\u001b[0m in \u001b[0;36m<module>\u001b[0;34m\u001b[0m\n\u001b[1;32m     14\u001b[0m     \u001b[0;31m# Create a Rectangle patch\u001b[0m\u001b[0;34m\u001b[0m\u001b[0;34m\u001b[0m\u001b[0;34m\u001b[0m\u001b[0m\n\u001b[1;32m     15\u001b[0m     \u001b[0;31m# yolov5 annotation format: class_id, x_center, y_center, width, and the height\u001b[0m\u001b[0;34m\u001b[0m\u001b[0;34m\u001b[0m\u001b[0;34m\u001b[0m\u001b[0m\n\u001b[0;32m---> 16\u001b[0;31m     \u001b[0mw\u001b[0m \u001b[0;34m=\u001b[0m \u001b[0mfloat\u001b[0m\u001b[0;34m(\u001b[0m\u001b[0mannotations\u001b[0m\u001b[0;34m[\u001b[0m\u001b[0mi\u001b[0m\u001b[0;34m-\u001b[0m\u001b[0;36m1\u001b[0m\u001b[0;34m]\u001b[0m\u001b[0;34m[\u001b[0m\u001b[0;36m3\u001b[0m\u001b[0;34m]\u001b[0m\u001b[0;34m)\u001b[0m\u001b[0;34m*\u001b[0m\u001b[0mimg\u001b[0m\u001b[0;34m.\u001b[0m\u001b[0mshape\u001b[0m\u001b[0;34m[\u001b[0m\u001b[0;36m1\u001b[0m\u001b[0;34m]\u001b[0m\u001b[0;34m\u001b[0m\u001b[0;34m\u001b[0m\u001b[0m\n\u001b[0m\u001b[1;32m     17\u001b[0m     \u001b[0mh\u001b[0m \u001b[0;34m=\u001b[0m \u001b[0mfloat\u001b[0m\u001b[0;34m(\u001b[0m\u001b[0mannotations\u001b[0m\u001b[0;34m[\u001b[0m\u001b[0mi\u001b[0m\u001b[0;34m-\u001b[0m\u001b[0;36m1\u001b[0m\u001b[0;34m]\u001b[0m\u001b[0;34m[\u001b[0m\u001b[0;36m4\u001b[0m\u001b[0;34m]\u001b[0m\u001b[0;34m)\u001b[0m\u001b[0;34m*\u001b[0m\u001b[0mimg\u001b[0m\u001b[0;34m.\u001b[0m\u001b[0mshape\u001b[0m\u001b[0;34m[\u001b[0m\u001b[0;36m0\u001b[0m\u001b[0;34m]\u001b[0m\u001b[0;34m\u001b[0m\u001b[0;34m\u001b[0m\u001b[0m\n\u001b[1;32m     18\u001b[0m     \u001b[0mx\u001b[0m \u001b[0;34m=\u001b[0m \u001b[0mfloat\u001b[0m\u001b[0;34m(\u001b[0m\u001b[0mannotations\u001b[0m\u001b[0;34m[\u001b[0m\u001b[0mi\u001b[0m\u001b[0;34m-\u001b[0m\u001b[0;36m1\u001b[0m\u001b[0;34m]\u001b[0m\u001b[0;34m[\u001b[0m\u001b[0;36m1\u001b[0m\u001b[0;34m]\u001b[0m\u001b[0;34m)\u001b[0m\u001b[0;34m*\u001b[0m\u001b[0mimg\u001b[0m\u001b[0;34m.\u001b[0m\u001b[0mshape\u001b[0m\u001b[0;34m[\u001b[0m\u001b[0;36m1\u001b[0m\u001b[0;34m]\u001b[0m \u001b[0;34m-\u001b[0m \u001b[0mw\u001b[0m\u001b[0;34m/\u001b[0m\u001b[0;36m2\u001b[0m\u001b[0;34m\u001b[0m\u001b[0;34m\u001b[0m\u001b[0m\n",
      "\u001b[0;31mIndexError\u001b[0m: list index out of range"
     ]
    }
   ],
   "source": [
    "import numpy as np\n",
    "import matplotlib.pyplot as plt\n",
    "import math\n",
    "import matplotlib.patches as patches #to draw rectangle \n",
    "\n",
    "fig=plt.figure(figsize=(20, 80))\n",
    "columns = 4\n",
    "rows = math.ceil(len(images) / columns)\n",
    "\n",
    "for i in range(1, len(images) + 1):\n",
    "    ax = fig.add_subplot(rows, columns, i)\n",
    "    img = images[i-1]\n",
    "    plt.imshow(img)\n",
    "    # Create a Rectangle patch\n",
    "    # yolov5 annotation format: class_id, x_center, y_center, width, and the height \n",
    "    w = float(annotations[i-1][3])*img.shape[1]\n",
    "    h = float(annotations[i-1][4])*img.shape[0]\n",
    "    x = float(annotations[i-1][1])*img.shape[1] - w/2\n",
    "    y = float(annotations[i-1][2])*img.shape[0] - h/2\n",
    "    \n",
    "    rect = patches.Rectangle((x,y),w,h,linewidth=1,edgecolor='green',facecolor='none')\n",
    "\n",
    "    # Add the patch to the Axes\n",
    "    ax.add_patch(rect)\n",
    "    \n",
    "#     if i > 15:\n",
    "#         break\n",
    "\n",
    "plt.show()"
   ]
  },
  {
   "cell_type": "code",
   "execution_count": null,
   "metadata": {},
   "outputs": [],
   "source": []
  }
 ],
 "metadata": {
  "kernelspec": {
   "display_name": "Python 3",
   "language": "python",
   "name": "python3"
  },
  "language_info": {
   "codemirror_mode": {
    "name": "ipython",
    "version": 3
   },
   "file_extension": ".py",
   "mimetype": "text/x-python",
   "name": "python",
   "nbconvert_exporter": "python",
   "pygments_lexer": "ipython3",
   "version": "3.6.9"
  }
 },
 "nbformat": 4,
 "nbformat_minor": 4
}
