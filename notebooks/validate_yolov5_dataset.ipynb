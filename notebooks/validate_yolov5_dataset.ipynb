{
 "cells": [
  {
   "cell_type": "markdown",
   "metadata": {},
   "source": [
    "#### Dataset Validation. \n",
    "This notebook is to validate the dataset that has been created by auto-labeled images\n",
    "\n",
    "- input: raw images with yolov5 format annotation\n",
    "- validation: visually validating that annotation is accurate.\n",
    "\n",
    "To test images, please update the `image_folder_path`, `annotation_folder_path` variables. "
   ]
  },
  {
   "cell_type": "code",
   "execution_count": null,
   "metadata": {},
   "outputs": [],
   "source": [
    "# update folder path if not data/processed folder\n",
    "image_folder_path = \"../data/processed/validate/images\" # on Windows c:data/processed/validate/images\n",
    "annotation_folder_path = \"../data/processed/validate/labels\" # on Windows c:data/processed/validate/labels"
   ]
  },
  {
   "cell_type": "code",
   "execution_count": null,
   "metadata": {},
   "outputs": [],
   "source": [
    "#import cv2 as cv\n",
    "#strange error ImportError: ERROR: recursion is detected during loading of \"cv2\" binary extensions. Check OpenCV installation."
   ]
  },
  {
   "cell_type": "code",
   "execution_count": null,
   "metadata": {},
   "outputs": [],
   "source": [
    "#import cv2 as cv\n",
    "import matplotlib.image as mpimg \n",
    "import os\n",
    "\n",
    "def load_images_from_folder(folder):\n",
    "    images = []\n",
    "    for filename in os.listdir(folder):\n",
    "        img = mpimg.imread(os.path.join(folder,filename))\n",
    "        if img is not None:\n",
    "            images.append(img)\n",
    "        \n",
    "    return images\n",
    "\n",
    "def load_annotations_from_folder(folder):\n",
    "    txt_files = filter(lambda x: x[-4:] == '.txt', os.listdir(folder))\n",
    "    annotations = []\n",
    "    for filename in txt_files:\n",
    "        with open(os.path.join(folder,filename), 'r') as reader:\n",
    "            annotations.append(reader.read().split())\n",
    "            \n",
    "    return annotations"
   ]
  },
  {
   "cell_type": "code",
   "execution_count": null,
   "metadata": {},
   "outputs": [],
   "source": [
    "os.listdir(image_folder_path) # c: current directory\n",
    "## should see the list of images. If not please change. "
   ]
  },
  {
   "cell_type": "code",
   "execution_count": null,
   "metadata": {},
   "outputs": [],
   "source": [
    "images = load_images_from_folder(image_folder_path)\n",
    "\n",
    "annotations = load_annotations_from_folder(annotation_folder_path)\n",
    "# class_id, x_center, y_center, width, and the height \n",
    "# scaled from 0 to 1\n",
    "\n",
    "annotations"
   ]
  },
  {
   "cell_type": "code",
   "execution_count": null,
   "metadata": {},
   "outputs": [],
   "source": [
    "images[0].shape \n",
    "# notice that shape is height by width (not same order as annotations) "
   ]
  },
  {
   "cell_type": "markdown",
   "metadata": {},
   "source": [
    "#### Load images and annotation from the folder and display them for visualization"
   ]
  },
  {
   "cell_type": "code",
   "execution_count": null,
   "metadata": {},
   "outputs": [],
   "source": [
    "import numpy as np\n",
    "import matplotlib.pyplot as plt\n",
    "import math\n",
    "import matplotlib.patches as patches #to draw rectangle \n",
    "\n",
    "fig=plt.figure(figsize=(20, 20))\n",
    "columns = 4\n",
    "rows = math.ceil(len(images) / columns)\n",
    "\n",
    "for i in range(1, len(images) + 1):\n",
    "    ax = fig.add_subplot(rows, columns, i)\n",
    "    img = images[i-1]\n",
    "    plt.imshow(img)\n",
    "    # Create a Rectangle patch\n",
    "    # yolov5 annotation format: class_id, x_center, y_center, width, and the height \n",
    "    w = float(annotations[i-1][3])*img.shape[1]\n",
    "    h = float(annotations[i-1][4])*img.shape[0]\n",
    "    x = float(annotations[i-1][1])*img.shape[1] - w/2\n",
    "    y = float(annotations[i-1][2])*img.shape[0] - h/2\n",
    "    \n",
    "    rect = patches.Rectangle((x,y),w,h,linewidth=1,edgecolor='green',facecolor='none')\n",
    "\n",
    "    # Add the patch to the Axes\n",
    "    ax.add_patch(rect)\n",
    "\n",
    "plt.show()"
   ]
  },
  {
   "cell_type": "code",
   "execution_count": null,
   "metadata": {},
   "outputs": [],
   "source": []
  }
 ],
 "metadata": {
  "kernelspec": {
   "display_name": "Python 3",
   "language": "python",
   "name": "python3"
  },
  "language_info": {
   "codemirror_mode": {
    "name": "ipython",
    "version": 3
   },
   "file_extension": ".py",
   "mimetype": "text/x-python",
   "name": "python",
   "nbconvert_exporter": "python",
   "pygments_lexer": "ipython3",
   "version": "3.6.9"
  }
 },
 "nbformat": 4,
 "nbformat_minor": 4
}
